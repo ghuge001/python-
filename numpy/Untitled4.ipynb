{
 "cells": [
  {
   "cell_type": "code",
   "execution_count": null,
   "id": "b873bdcf",
   "metadata": {
    "ExecuteTime": {
     "end_time": "2022-11-29T05:45:14.114193Z",
     "start_time": "2022-11-29T05:45:14.114193Z"
    }
   },
   "outputs": [],
   "source": [
    "!pip install numpy"
   ]
  },
  {
   "cell_type": "code",
   "execution_count": 10,
   "id": "3bc56e40",
   "metadata": {
    "ExecuteTime": {
     "end_time": "2022-11-29T05:46:28.801046Z",
     "start_time": "2022-11-29T05:46:28.576758Z"
    }
   },
   "outputs": [],
   "source": [
    "import numpy as np"
   ]
  },
  {
   "cell_type": "code",
   "execution_count": 11,
   "id": "543b4fde",
   "metadata": {
    "ExecuteTime": {
     "end_time": "2022-11-29T05:46:54.292852Z",
     "start_time": "2022-11-29T05:46:54.270820Z"
    }
   },
   "outputs": [
    {
     "data": {
      "text/plain": [
       "numpy.ndarray"
      ]
     },
     "execution_count": 11,
     "metadata": {},
     "output_type": "execute_result"
    }
   ],
   "source": [
    "a = np.array(10)\n",
    "type(a)"
   ]
  },
  {
   "cell_type": "code",
   "execution_count": null,
   "id": "32224560",
   "metadata": {},
   "outputs": [],
   "source": [
    "#zero dimensional array"
   ]
  },
  {
   "cell_type": "code",
   "execution_count": 13,
   "id": "dac24c2e",
   "metadata": {
    "ExecuteTime": {
     "end_time": "2022-11-29T05:48:34.075786Z",
     "start_time": "2022-11-29T05:48:34.067934Z"
    }
   },
   "outputs": [
    {
     "ename": "SyntaxError",
     "evalue": "cannot assign to literal (752192521.py, line 1)",
     "output_type": "error",
     "traceback": [
      "\u001b[1;36m  File \u001b[1;32m\"C:\\Users\\HP\\AppData\\Local\\Temp\\ipykernel_19724\\752192521.py\"\u001b[1;36m, line \u001b[1;32m1\u001b[0m\n\u001b[1;33m    0 = np.array([10,12,12,15])\u001b[0m\n\u001b[1;37m    ^\u001b[0m\n\u001b[1;31mSyntaxError\u001b[0m\u001b[1;31m:\u001b[0m cannot assign to literal\n"
     ]
    }
   ],
   "source": [
    "object = np.array([10,12,12,15])\n"
   ]
  },
  {
   "cell_type": "code",
   "execution_count": null,
   "id": "2dfd0974",
   "metadata": {},
   "outputs": [],
   "source": [
    "# three dimensional array\n"
   ]
  },
  {
   "cell_type": "code",
   "execution_count": 15,
   "id": "3fbd96cf",
   "metadata": {
    "ExecuteTime": {
     "end_time": "2022-11-29T05:51:09.429627Z",
     "start_time": "2022-11-29T05:51:09.418163Z"
    }
   },
   "outputs": [],
   "source": [
    "th = np.array([[[10,12,13,14,15]]])"
   ]
  },
  {
   "cell_type": "code",
   "execution_count": 16,
   "id": "93b830b7",
   "metadata": {
    "ExecuteTime": {
     "end_time": "2022-11-29T05:51:09.716958Z",
     "start_time": "2022-11-29T05:51:09.700180Z"
    }
   },
   "outputs": [
    {
     "data": {
      "text/plain": [
       "3"
      ]
     },
     "execution_count": 16,
     "metadata": {},
     "output_type": "execute_result"
    }
   ],
   "source": [
    "th.ndim"
   ]
  },
  {
   "cell_type": "code",
   "execution_count": null,
   "id": "2c5764f9",
   "metadata": {},
   "outputs": [],
   "source": [
    "# change the data type of the array elements"
   ]
  },
  {
   "cell_type": "code",
   "execution_count": null,
   "id": "7f6891a0",
   "metadata": {},
   "outputs": [],
   "source": [
    "a = np.array([10,15,52,54])"
   ]
  },
  {
   "cell_type": "code",
   "execution_count": 17,
   "id": "cbbabbc1",
   "metadata": {
    "ExecuteTime": {
     "end_time": "2022-11-29T05:53:22.853073Z",
     "start_time": "2022-11-29T05:53:22.827236Z"
    }
   },
   "outputs": [
    {
     "data": {
      "text/plain": [
       "dtype('int32')"
      ]
     },
     "execution_count": 17,
     "metadata": {},
     "output_type": "execute_result"
    }
   ],
   "source": [
    "a.dtype"
   ]
  },
  {
   "cell_type": "code",
   "execution_count": 18,
   "id": "2613939b",
   "metadata": {
    "ExecuteTime": {
     "end_time": "2022-11-29T05:53:57.409922Z",
     "start_time": "2022-11-29T05:53:57.390263Z"
    }
   },
   "outputs": [
    {
     "data": {
      "text/plain": [
       "array([ 1,  3,  5,  7,  9, 11, 13, 15, 17, 19])"
      ]
     },
     "execution_count": 18,
     "metadata": {},
     "output_type": "execute_result"
    }
   ],
   "source": [
    "a = np.arange(1,21,2)\n",
    "a"
   ]
  },
  {
   "cell_type": "code",
   "execution_count": 19,
   "id": "f52cec00",
   "metadata": {
    "ExecuteTime": {
     "end_time": "2022-11-29T05:54:56.389972Z",
     "start_time": "2022-11-29T05:54:56.370431Z"
    }
   },
   "outputs": [
    {
     "data": {
      "text/plain": [
       "(array([1.        , 1.28571429, 1.57142857, 1.85714286, 2.14285714,\n",
       "        2.42857143, 2.71428571, 3.        , 3.28571429, 3.57142857,\n",
       "        3.85714286, 4.14285714, 4.42857143, 4.71428571, 5.        ]),\n",
       " 0.2857142857142857)"
      ]
     },
     "execution_count": 19,
     "metadata": {},
     "output_type": "execute_result"
    }
   ],
   "source": [
    "b = np.linspace(1,5,15, retstep=True)\n",
    "b"
   ]
  },
  {
   "cell_type": "code",
   "execution_count": 20,
   "id": "0e695500",
   "metadata": {
    "ExecuteTime": {
     "end_time": "2022-11-29T05:55:28.525172Z",
     "start_time": "2022-11-29T05:55:28.510777Z"
    }
   },
   "outputs": [
    {
     "data": {
      "text/plain": [
       "array([[0., 0.],\n",
       "       [0., 0.]])"
      ]
     },
     "execution_count": 20,
     "metadata": {},
     "output_type": "execute_result"
    }
   ],
   "source": [
    "z = np.zeros([2,2])\n",
    "z"
   ]
  },
  {
   "cell_type": "code",
   "execution_count": 23,
   "id": "b33e9445",
   "metadata": {
    "ExecuteTime": {
     "end_time": "2022-11-29T05:56:23.910877Z",
     "start_time": "2022-11-29T05:56:23.895857Z"
    }
   },
   "outputs": [
    {
     "data": {
      "text/plain": [
       "array([[1., 1., 1., 1., 1.],\n",
       "       [1., 1., 1., 1., 1.],\n",
       "       [1., 1., 1., 1., 1.],\n",
       "       [1., 1., 1., 1., 1.],\n",
       "       [1., 1., 1., 1., 1.]])"
      ]
     },
     "execution_count": 23,
     "metadata": {},
     "output_type": "execute_result"
    }
   ],
   "source": [
    "o = np.ones([5,5])\n",
    "o"
   ]
  },
  {
   "cell_type": "code",
   "execution_count": 24,
   "id": "92df0d8d",
   "metadata": {
    "ExecuteTime": {
     "end_time": "2022-11-29T05:58:39.816903Z",
     "start_time": "2022-11-29T05:58:39.793049Z"
    }
   },
   "outputs": [
    {
     "data": {
      "text/plain": [
       "array([[0.42194099, 0.6533521 , 0.83059214, 0.01975142, 0.70520204],\n",
       "       [0.87897271, 0.99398461, 0.02289174, 0.69034447, 0.25922492],\n",
       "       [0.77698061, 0.98105608, 0.82976757, 0.78545461, 0.84143831],\n",
       "       [0.14368439, 0.90841625, 0.95196243, 0.1985103 , 0.36202268],\n",
       "       [0.16417458, 0.60964751, 0.29900252, 0.19643149, 0.26174007]])"
      ]
     },
     "execution_count": 24,
     "metadata": {},
     "output_type": "execute_result"
    }
   ],
   "source": [
    "r = np.random.rand(5,5)\n",
    "r"
   ]
  },
  {
   "cell_type": "code",
   "execution_count": 28,
   "id": "2ddea801",
   "metadata": {
    "ExecuteTime": {
     "end_time": "2022-11-29T05:59:45.285962Z",
     "start_time": "2022-11-29T05:59:45.263162Z"
    }
   },
   "outputs": [
    {
     "ename": "AttributeError",
     "evalue": "module 'numpy.random' has no attribute 'randiant'",
     "output_type": "error",
     "traceback": [
      "\u001b[1;31m---------------------------------------------------------------------------\u001b[0m",
      "\u001b[1;31mAttributeError\u001b[0m                            Traceback (most recent call last)",
      "\u001b[1;32m~\\AppData\\Local\\Temp\\ipykernel_19724\\3817305581.py\u001b[0m in \u001b[0;36m<module>\u001b[1;34m\u001b[0m\n\u001b[1;32m----> 1\u001b[1;33m \u001b[0mr\u001b[0m \u001b[1;33m=\u001b[0m \u001b[0mnp\u001b[0m\u001b[1;33m.\u001b[0m\u001b[0mrandom\u001b[0m\u001b[1;33m.\u001b[0m\u001b[0mrandiant\u001b[0m\u001b[1;33m(\u001b[0m\u001b[1;36m5\u001b[0m\u001b[1;33m,\u001b[0m\u001b[0msize\u001b[0m\u001b[1;33m=\u001b[0m \u001b[1;36m10\u001b[0m\u001b[1;33m)\u001b[0m\u001b[1;33m\u001b[0m\u001b[1;33m\u001b[0m\u001b[0m\n\u001b[0m\u001b[0;32m      2\u001b[0m \u001b[0mr\u001b[0m\u001b[1;33m\u001b[0m\u001b[1;33m\u001b[0m\u001b[0m\n",
      "\u001b[1;31mAttributeError\u001b[0m: module 'numpy.random' has no attribute 'randiant'"
     ]
    }
   ],
   "source": [
    "r = np.random.randiant(5,size= 10)\n",
    "r"
   ]
  },
  {
   "cell_type": "code",
   "execution_count": 29,
   "id": "e25e6363",
   "metadata": {
    "ExecuteTime": {
     "end_time": "2022-11-29T06:00:42.209624Z",
     "start_time": "2022-11-29T06:00:42.197059Z"
    }
   },
   "outputs": [
    {
     "data": {
      "text/plain": [
       "array([[1, 2, 3],\n",
       "       [4, 5, 6]])"
      ]
     },
     "execution_count": 29,
     "metadata": {},
     "output_type": "execute_result"
    }
   ],
   "source": [
    "a = np.array([[1,2,3],[4,5,6]])\n",
    "a"
   ]
  },
  {
   "cell_type": "code",
   "execution_count": 30,
   "id": "8c8cf21b",
   "metadata": {
    "ExecuteTime": {
     "end_time": "2022-11-29T06:01:01.200300Z",
     "start_time": "2022-11-29T06:01:01.186561Z"
    }
   },
   "outputs": [
    {
     "data": {
      "text/plain": [
       "1"
      ]
     },
     "execution_count": 30,
     "metadata": {},
     "output_type": "execute_result"
    }
   ],
   "source": [
    "a[0,0]"
   ]
  },
  {
   "cell_type": "code",
   "execution_count": 31,
   "id": "5b9ca802",
   "metadata": {
    "ExecuteTime": {
     "end_time": "2022-11-29T06:01:09.262664Z",
     "start_time": "2022-11-29T06:01:09.240091Z"
    }
   },
   "outputs": [
    {
     "data": {
      "text/plain": [
       "6"
      ]
     },
     "execution_count": 31,
     "metadata": {},
     "output_type": "execute_result"
    }
   ],
   "source": [
    "a[1,2]"
   ]
  },
  {
   "cell_type": "code",
   "execution_count": 32,
   "id": "bf4693a4",
   "metadata": {
    "ExecuteTime": {
     "end_time": "2022-11-29T06:01:23.847575Z",
     "start_time": "2022-11-29T06:01:23.836256Z"
    }
   },
   "outputs": [
    {
     "data": {
      "text/plain": [
       "array([2, 3])"
      ]
     },
     "execution_count": 32,
     "metadata": {},
     "output_type": "execute_result"
    }
   ],
   "source": [
    "a[0,1:]"
   ]
  },
  {
   "cell_type": "code",
   "execution_count": 33,
   "id": "0e713975",
   "metadata": {
    "ExecuteTime": {
     "end_time": "2022-11-29T06:01:40.436994Z",
     "start_time": "2022-11-29T06:01:40.423274Z"
    }
   },
   "outputs": [
    {
     "data": {
      "text/plain": [
       "array([[2, 3],\n",
       "       [5, 6]])"
      ]
     },
     "execution_count": 33,
     "metadata": {},
     "output_type": "execute_result"
    }
   ],
   "source": [
    "a[0:,1:]"
   ]
  },
  {
   "cell_type": "code",
   "execution_count": 36,
   "id": "7fb8580b",
   "metadata": {
    "ExecuteTime": {
     "end_time": "2022-11-29T06:02:26.087686Z",
     "start_time": "2022-11-29T06:02:26.061883Z"
    }
   },
   "outputs": [
    {
     "ename": "IndexError",
     "evalue": "index 5 is out of bounds for axis 1 with size 3",
     "output_type": "error",
     "traceback": [
      "\u001b[1;31m---------------------------------------------------------------------------\u001b[0m",
      "\u001b[1;31mIndexError\u001b[0m                                Traceback (most recent call last)",
      "\u001b[1;32m~\\AppData\\Local\\Temp\\ipykernel_19724\\1212364847.py\u001b[0m in \u001b[0;36m<module>\u001b[1;34m\u001b[0m\n\u001b[1;32m----> 1\u001b[1;33m \u001b[0ma\u001b[0m\u001b[1;33m[\u001b[0m\u001b[1;33m[\u001b[0m\u001b[1;36m0\u001b[0m\u001b[1;33m,\u001b[0m\u001b[1;36m1\u001b[0m\u001b[1;33m]\u001b[0m\u001b[1;33m,\u001b[0m\u001b[1;33m[\u001b[0m\u001b[1;36m5\u001b[0m\u001b[1;33m,\u001b[0m\u001b[1;36m6\u001b[0m\u001b[1;33m]\u001b[0m\u001b[1;33m]\u001b[0m\u001b[1;33m\u001b[0m\u001b[1;33m\u001b[0m\u001b[0m\n\u001b[0m\u001b[0;32m      2\u001b[0m \u001b[0ma\u001b[0m\u001b[1;33m\u001b[0m\u001b[1;33m\u001b[0m\u001b[0m\n",
      "\u001b[1;31mIndexError\u001b[0m: index 5 is out of bounds for axis 1 with size 3"
     ]
    }
   ],
   "source": [
    "a[[0,1],[5,6]]\n",
    "a"
   ]
  },
  {
   "cell_type": "code",
   "execution_count": null,
   "id": "0c199f65",
   "metadata": {},
   "outputs": [],
   "source": []
  },
  {
   "cell_type": "code",
   "execution_count": 37,
   "id": "9b37be9e",
   "metadata": {
    "ExecuteTime": {
     "end_time": "2022-11-29T06:03:15.546950Z",
     "start_time": "2022-11-29T06:03:15.523326Z"
    }
   },
   "outputs": [
    {
     "data": {
      "text/plain": [
       "array([[0.72952137, 0.59028462],\n",
       "       [0.63863841, 0.68161527],\n",
       "       [0.52690736, 0.3715693 ],\n",
       "       [0.04069227, 0.4403339 ],\n",
       "       [0.07404688, 0.1164385 ]])"
      ]
     },
     "execution_count": 37,
     "metadata": {},
     "output_type": "execute_result"
    }
   ],
   "source": [
    "a = np.random.rand(5,2)\n",
    "a"
   ]
  },
  {
   "cell_type": "code",
   "execution_count": 38,
   "id": "88564ee4",
   "metadata": {
    "ExecuteTime": {
     "end_time": "2022-11-29T06:03:29.297232Z",
     "start_time": "2022-11-29T06:03:29.282869Z"
    }
   },
   "outputs": [
    {
     "data": {
      "text/plain": [
       "array([[0.72952137, 0.59028462, 0.63863841, 0.68161527, 0.52690736],\n",
       "       [0.3715693 , 0.04069227, 0.4403339 , 0.07404688, 0.1164385 ]])"
      ]
     },
     "execution_count": 38,
     "metadata": {},
     "output_type": "execute_result"
    }
   ],
   "source": [
    "a.reshape(2,5)"
   ]
  },
  {
   "cell_type": "code",
   "execution_count": 40,
   "id": "a1862f3f",
   "metadata": {
    "ExecuteTime": {
     "end_time": "2022-11-29T06:04:02.484807Z",
     "start_time": "2022-11-29T06:04:02.473515Z"
    }
   },
   "outputs": [
    {
     "data": {
      "text/plain": [
       "array([[0.72952137],\n",
       "       [0.59028462],\n",
       "       [0.63863841],\n",
       "       [0.68161527],\n",
       "       [0.52690736],\n",
       "       [0.3715693 ],\n",
       "       [0.04069227],\n",
       "       [0.4403339 ],\n",
       "       [0.07404688],\n",
       "       [0.1164385 ]])"
      ]
     },
     "execution_count": 40,
     "metadata": {},
     "output_type": "execute_result"
    }
   ],
   "source": [
    "a.reshape(10,1)"
   ]
  },
  {
   "cell_type": "code",
   "execution_count": 41,
   "id": "d5915fa4",
   "metadata": {
    "ExecuteTime": {
     "end_time": "2022-11-29T06:04:18.252319Z",
     "start_time": "2022-11-29T06:04:18.240424Z"
    }
   },
   "outputs": [
    {
     "data": {
      "text/plain": [
       "array([[0.72952137, 0.59028462, 0.63863841, 0.68161527, 0.52690736,\n",
       "        0.3715693 , 0.04069227, 0.4403339 , 0.07404688, 0.1164385 ]])"
      ]
     },
     "execution_count": 41,
     "metadata": {},
     "output_type": "execute_result"
    }
   ],
   "source": [
    "a.reshape(1,10)"
   ]
  },
  {
   "cell_type": "code",
   "execution_count": 42,
   "id": "188dfc1f",
   "metadata": {
    "ExecuteTime": {
     "end_time": "2022-11-29T06:04:34.460258Z",
     "start_time": "2022-11-29T06:04:34.451167Z"
    }
   },
   "outputs": [
    {
     "data": {
      "text/plain": [
       "array([[0.72952137, 0.59028462],\n",
       "       [0.63863841, 0.68161527],\n",
       "       [0.52690736, 0.3715693 ],\n",
       "       [0.04069227, 0.4403339 ],\n",
       "       [0.07404688, 0.1164385 ]])"
      ]
     },
     "execution_count": 42,
     "metadata": {},
     "output_type": "execute_result"
    }
   ],
   "source": [
    "a.reshape(5,-1)"
   ]
  },
  {
   "cell_type": "code",
   "execution_count": null,
   "id": "e589978a",
   "metadata": {},
   "outputs": [],
   "source": [
    "# aggregate function"
   ]
  },
  {
   "cell_type": "code",
   "execution_count": 43,
   "id": "0a286dca",
   "metadata": {
    "ExecuteTime": {
     "end_time": "2022-11-29T06:04:58.712570Z",
     "start_time": "2022-11-29T06:04:58.701134Z"
    }
   },
   "outputs": [
    {
     "data": {
      "text/plain": [
       "<function ndarray.min>"
      ]
     },
     "execution_count": 43,
     "metadata": {},
     "output_type": "execute_result"
    }
   ],
   "source": [
    "a.min"
   ]
  },
  {
   "cell_type": "code",
   "execution_count": 44,
   "id": "03087c90",
   "metadata": {
    "ExecuteTime": {
     "end_time": "2022-11-29T06:05:07.677897Z",
     "start_time": "2022-11-29T06:05:07.662862Z"
    }
   },
   "outputs": [
    {
     "data": {
      "text/plain": [
       "<function ndarray.std>"
      ]
     },
     "execution_count": 44,
     "metadata": {},
     "output_type": "execute_result"
    }
   ],
   "source": [
    "a.std"
   ]
  },
  {
   "cell_type": "code",
   "execution_count": null,
   "id": "00844867",
   "metadata": {},
   "outputs": [],
   "source": [
    "# stacking"
   ]
  },
  {
   "cell_type": "code",
   "execution_count": 45,
   "id": "e9c663d8",
   "metadata": {
    "ExecuteTime": {
     "end_time": "2022-11-29T06:07:11.850557Z",
     "start_time": "2022-11-29T06:07:11.839182Z"
    }
   },
   "outputs": [],
   "source": [
    "a = np.array([1,2,3])\n",
    "b = np.array([4,5,6])"
   ]
  },
  {
   "cell_type": "code",
   "execution_count": 46,
   "id": "a4b7d4d9",
   "metadata": {
    "ExecuteTime": {
     "end_time": "2022-11-29T06:07:46.287108Z",
     "start_time": "2022-11-29T06:07:46.269112Z"
    }
   },
   "outputs": [
    {
     "data": {
      "text/plain": [
       "array([1, 2, 3, 4, 5, 6])"
      ]
     },
     "execution_count": 46,
     "metadata": {},
     "output_type": "execute_result"
    }
   ],
   "source": [
    "np.hstack([a,b])"
   ]
  },
  {
   "cell_type": "code",
   "execution_count": 47,
   "id": "be9b46a4",
   "metadata": {
    "ExecuteTime": {
     "end_time": "2022-11-29T06:08:10.295488Z",
     "start_time": "2022-11-29T06:08:10.280316Z"
    }
   },
   "outputs": [
    {
     "data": {
      "text/plain": [
       "array([[1, 2, 3],\n",
       "       [4, 5, 6]])"
      ]
     },
     "execution_count": 47,
     "metadata": {},
     "output_type": "execute_result"
    }
   ],
   "source": [
    "np.vstack([a,b])"
   ]
  },
  {
   "cell_type": "code",
   "execution_count": null,
   "id": "493af005",
   "metadata": {},
   "outputs": [],
   "source": [
    "\n"
   ]
  }
 ],
 "metadata": {
  "kernelspec": {
   "display_name": "Python 3 (ipykernel)",
   "language": "python",
   "name": "python3"
  },
  "language_info": {
   "codemirror_mode": {
    "name": "ipython",
    "version": 3
   },
   "file_extension": ".py",
   "mimetype": "text/x-python",
   "name": "python",
   "nbconvert_exporter": "python",
   "pygments_lexer": "ipython3",
   "version": "3.9.13"
  }
 },
 "nbformat": 4,
 "nbformat_minor": 5
}
